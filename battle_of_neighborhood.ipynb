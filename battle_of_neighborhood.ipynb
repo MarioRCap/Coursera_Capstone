{
    "cells": [
        {
            "cell_type": "markdown",
            "metadata": {
                "collapsed": true
            },
            "source": "# Capstone Project - The Battle of Neighborhoods"
        },
        {
            "cell_type": "markdown",
            "metadata": {},
            "source": "### Table of contents\n___\n1. *Problem Statement*\n2. *Data description*\n3. *Methodology*\n4. *Results*\n5. *Discussion and Coclusions*"
        },
        {
            "cell_type": "markdown",
            "metadata": {},
            "source": "### 1. Problem Statement \n___\nI work for a global mulinational located in Milan, IT but due to COVID I left my apartment. Probably, with the vaccination campaigns in place, we will return to the office. Therefore, I'm looking for a new apartment in Milan and I would like to use this opportunity to practice my learnings in Coursera, particularly with Foursquare, in order to answer the relevant questions arisen.\nThe key question that I would address whitin this project is the following: How can I find a convenient and enjoyable place that fit my interests?\nIn order to make a comparison and an evaluation of the rental option, below is a list of some \"constraints\" based on what I am looking for:\n- Apartment must be one or two room flat\n- Desired location is near a metro station within 1km radius\n- Price of rent not exceed \u20ac1,200 per month\n- Nice to have venues such as gym, food shops and restaurants\nFinding an apartment in Milan is always an hard job, especially for one and two rooms flats. Therefore, I believe that this work could be useful first for helping me to find a solution and, in general, for anyone moving to other large city in Italy. \n\n### 2. Data description \n___\nTo empirically investigate the research question identified in this study, the following data is required:\n- List of Boroughs and Neighborhoods of Milan with their geodata (latitude and longitude)\n- List of Subway metro stations in Milan with their address location\n- List of apartments for rent in Milan including their price\n- List of venues for each Milan neighborhood\n\nTo retrieve the list of boroughs and neighborhoods of Milan, the Wikipedia page (URL: https://en.wikipedia.org/wiki/Municipalities_of_Milan) will be used, scraping through the python library BeautifulSoup. To get the list of Subway metro stations in Milan, the CKAN Data API will be used to query the open data provided by the Government. A detailed view of the dataset used in this study can be found at the following [link](https://dati.comune.milano.it/dataset/ds535_atm-fermate-linee-metropolitane). To fetch apartments for rent, including their price, a real estate API will be used. Finally, venues will be collected via the Foursquare API."
        },
        {
            "cell_type": "markdown",
            "metadata": {},
            "source": "#### 2.1 List of Boroughs and Neighborhoods of Milan with their geodata (latitude and longitude)"
        },
        {
            "cell_type": "code",
            "execution_count": 77,
            "metadata": {},
            "outputs": [
                {
                    "data": {
                        "text/html": "<div>\n<style scoped>\n    .dataframe tbody tr th:only-of-type {\n        vertical-align: middle;\n    }\n\n    .dataframe tbody tr th {\n        vertical-align: top;\n    }\n\n    .dataframe thead th {\n        text-align: right;\n    }\n</style>\n<table border=\"1\" class=\"dataframe\">\n  <thead>\n    <tr style=\"text-align: right;\">\n      <th></th>\n      <th>Borough</th>\n      <th>BoroughName</th>\n      <th>Neighborhood</th>\n    </tr>\n  </thead>\n  <tbody>\n    <tr>\n      <th>0</th>\n      <td>1</td>\n      <td>Centro storico</td>\n      <td>Brera, Centro Storico, Conca del Naviglio, Gua...</td>\n    </tr>\n    <tr>\n      <th>1</th>\n      <td>2</td>\n      <td>Stazione Centrale, Gorla, Turro, Greco, Cresce...</td>\n      <td>Adriano, Crescenzago, Gorla, Greco, Loreto, Ma...</td>\n    </tr>\n    <tr>\n      <th>2</th>\n      <td>3</td>\n      <td>Citt\u00e0 Studi, Lambrate, Porta Venezia</td>\n      <td>Casoretto, Cimiano, Citt\u00e0 Studi, Dosso, Lambra...</td>\n    </tr>\n    <tr>\n      <th>3</th>\n      <td>4</td>\n      <td>Porta Vittoria, Forlanini</td>\n      <td>Acquabella, Calvairate, Castagnedo, Cavriano, ...</td>\n    </tr>\n    <tr>\n      <th>4</th>\n      <td>5</td>\n      <td>Vigentino, Chiaravalle, Gratosoglio</td>\n      <td>Basmetto, Cantalupa, Case Nuove, Chiaravalle, ...</td>\n    </tr>\n  </tbody>\n</table>\n</div>",
                        "text/plain": "  Borough                                        BoroughName  \\\n0       1                                     Centro storico   \n1       2  Stazione Centrale, Gorla, Turro, Greco, Cresce...   \n2       3               Citt\u00e0 Studi, Lambrate, Porta Venezia   \n3       4                          Porta Vittoria, Forlanini   \n4       5                Vigentino, Chiaravalle, Gratosoglio   \n\n                                        Neighborhood  \n0  Brera, Centro Storico, Conca del Naviglio, Gua...  \n1  Adriano, Crescenzago, Gorla, Greco, Loreto, Ma...  \n2  Casoretto, Cimiano, Citt\u00e0 Studi, Dosso, Lambra...  \n3  Acquabella, Calvairate, Castagnedo, Cavriano, ...  \n4  Basmetto, Cantalupa, Case Nuove, Chiaravalle, ...  "
                    },
                    "execution_count": 77,
                    "metadata": {},
                    "output_type": "execute_result"
                }
            ],
            "source": "import pandas as pd\nimport numpy as np\nimport requests\nfrom bs4 import BeautifulSoup\n\nurl= \"https://en.wikipedia.org/wiki/Municipalities_of_Milan\"\npage = requests.get(url)\nsoup = BeautifulSoup(page.text, 'html.parser')\n\ntable_contents = []\ntable = soup.find(\"table\",{\"class\":\"wikitable sortable\"})\ntable_body = table.find('tbody')\n\nrows = table_body.find_all('tr')\n\nfor row in rows:\n    cell = {}\n    cols = row.findAll('td')\n    cols = [ele.text.strip() for ele in cols]\n    if cols:\n        cell['Borough'] = cols[0]\n        cell['BoroughName'] = cols[1]\n        cell['Neighborhood'] = cols[5]\n        table_contents.append(cell)\n\nmilan_neighborhood=pd.DataFrame(table_contents)\n\n\nmilan_neighborhood.head()"
        },
        {
            "cell_type": "code",
            "execution_count": 84,
            "metadata": {},
            "outputs": [
                {
                    "data": {
                        "text/html": "<div>\n<style scoped>\n    .dataframe tbody tr th:only-of-type {\n        vertical-align: middle;\n    }\n\n    .dataframe tbody tr th {\n        vertical-align: top;\n    }\n\n    .dataframe thead th {\n        text-align: right;\n    }\n</style>\n<table border=\"1\" class=\"dataframe\">\n  <thead>\n    <tr style=\"text-align: right;\">\n      <th></th>\n      <th>Borough</th>\n      <th>Latitude</th>\n      <th>Longitude</th>\n    </tr>\n  </thead>\n  <tbody>\n    <tr>\n      <th>0</th>\n      <td>1</td>\n      <td>45.465362</td>\n      <td>9.188748</td>\n    </tr>\n    <tr>\n      <th>1</th>\n      <td>2</td>\n      <td>45.492814</td>\n      <td>9.203981</td>\n    </tr>\n    <tr>\n      <th>2</th>\n      <td>3</td>\n      <td>45.481547</td>\n      <td>9.218666</td>\n    </tr>\n    <tr>\n      <th>3</th>\n      <td>4</td>\n      <td>45.440969</td>\n      <td>9.217621</td>\n    </tr>\n    <tr>\n      <th>4</th>\n      <td>5</td>\n      <td>45.445495</td>\n      <td>9.183412</td>\n    </tr>\n  </tbody>\n</table>\n</div>",
                        "text/plain": "   Borough   Latitude  Longitude\n0        1  45.465362   9.188748\n1        2  45.492814   9.203981\n2        3  45.481547   9.218666\n3        4  45.440969   9.217621\n4        5  45.445495   9.183412"
                    },
                    "execution_count": 84,
                    "metadata": {},
                    "output_type": "execute_result"
                }
            ],
            "source": "# Load local csv file containing latitude and longitude for each borough\nimport os, types\nimport pandas as pd\nfrom botocore.client import Config\nimport ibm_boto3\n\ndef __iter__(self): return 0\n\n@hidden_cell\n#The following code accesses a file in your IBM Cloud Object Storage. It includes your credentials.\n#You might want to remove those credentials before you share the notebook.\n\nif os.environ.get('RUNTIME_ENV_LOCATION_TYPE') == 'external':\n    endpoint_8d0825c3ad5e45d992ecc8e3e8ca16fd = 'https://s3.eu.cloud-object-storage.appdomain.cloud'\nelse:\n    endpoint_8d0825c3ad5e45d992ecc8e3e8ca16fd = 'https://s3.private.eu.cloud-object-storage.appdomain.cloud'\n\nclient_8d0825c3ad5e45d992ecc8e3e8ca16fd = ibm_boto3.client(service_name='s3',\n    ibm_api_key_id='bOJZczT_TKkZ2KVEZv7QImXBDffEHKMP3t7OflCjwpwQ',\n    ibm_auth_endpoint=\"https://iam.cloud.ibm.com/oidc/token\",\n    config=Config(signature_version='oauth'),\n    endpoint_url=endpoint_8d0825c3ad5e45d992ecc8e3e8ca16fd)\n\nbody = client_8d0825c3ad5e45d992ecc8e3e8ca16fd.get_object(Bucket='applieddatasciencecapstone-donotdelete-pr-khbsoxd42hmacx',Key='Milan_GeospatialCoordinates.csv')['Body']\n# add missing __iter__ method, so pandas accepts body as file-like object\nif not hasattr(body, \"__iter__\"): body.__iter__ = types.MethodType( __iter__, body )\n\ndf_data_1 = pd.read_csv(body)\ndf_data_1.head()"
        },
        {
            "cell_type": "markdown",
            "metadata": {},
            "source": "### 3. Methodolody\n___\n"
        },
        {
            "cell_type": "markdown",
            "metadata": {},
            "source": "### 4. Results\n___"
        },
        {
            "cell_type": "markdown",
            "metadata": {},
            "source": "### 5. Discussion and Conclusions\n___"
        }
    ],
    "metadata": {
        "kernelspec": {
            "display_name": "Python 3.7",
            "language": "python",
            "name": "python3"
        },
        "language_info": {
            "codemirror_mode": {
                "name": "ipython",
                "version": 3
            },
            "file_extension": ".py",
            "mimetype": "text/x-python",
            "name": "python",
            "nbconvert_exporter": "python",
            "pygments_lexer": "ipython3",
            "version": "3.7.10"
        }
    },
    "nbformat": 4,
    "nbformat_minor": 1
}
