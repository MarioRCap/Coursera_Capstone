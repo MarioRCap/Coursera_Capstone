{
    "cells": [
        {
            "metadata": {
                "collapsed": true
            },
            "cell_type": "markdown",
            "source": "# Capstone Project - The Battle of Neighborhoods (Week 1)"
        },
        {
            "metadata": {},
            "cell_type": "markdown",
            "source": "### Table of contents\n___\n1. *Problem Statement*\n2. *Data description*\n3. *Methodology*\n4. *Results*\n5. *Discussion and Coclusions*"
        },
        {
            "metadata": {},
            "cell_type": "markdown",
            "source": "### 1. Problem Statement \n___\nI work for a global mulinational located in Milan, IT but due to COVID I left my apartment. Probably, with the vaccination campaigns in place, we will return to the office. Therefore, I'm looking for a new apartment in Milan and I would like to use this opportunity to practice my learnings in Coursera, particularly with Foursquare, in order to answer the relevant questions arisen.\nThe key question that I would address whitin this project is the following: How can I find a convenient and enjoyable place that fit my interests?\nIn order to make a comparison and an evaluation of the rental option, below is a list of some \"constraints\" based on what I am looking for:\n- Apartment must be one or two room flat\n- Desired location is near a metro station within 1km radius\n- Price of rent not exceed \u20ac1,200 per month\n- Nice to have venues such as gym, food shops and restaurants\nFinding an apartment in Milan is always an hard job, especially for one and two rooms flats. Therefore, I believe that this work could be useful first for helping me to find a solution and, in general, for anyone moving to other large city in Italy. \n\n### 2. Data description \n___\nTo empirically investigate the research question identified in this study, the following data is required:\n- List of Boroughs and Neighborhoods of Milan with their geodata (latitude and longitude)\n- List of Subway metro stations in Milan with their address location\n- List of apartments for rent in Milan including their price\n- List of venues for each Milan neighborhood\n\nTo retrieve the list of boroughs and neighborhoods of Milan, the Wikipedia page (URL: https://en.wikipedia.org/wiki/Municipalities_of_Milan) will be used, scraping through the python library BeautifulSoup. To get the list of Subway metro stations in Milan, the CKAN Data API will be used to query the open data provided by the Government. A detailed view of the dataset used in this study can be found at the following [link](https://dati.comune.milano.it/dataset/ds535_atm-fermate-linee-metropolitane). To fetch apartments for rent, including their price, a real estate API will be used. Finally, venues will be collected via the Foursquare API."
        },
        {
            "metadata": {},
            "cell_type": "markdown",
            "source": "### 3. Methodolody\n___\n"
        },
        {
            "metadata": {},
            "cell_type": "markdown",
            "source": "### 4. Results\n___"
        },
        {
            "metadata": {},
            "cell_type": "markdown",
            "source": "### 5. Discussion and Conclusions\n___"
        }
    ],
    "metadata": {
        "kernelspec": {
            "name": "python3",
            "display_name": "Python 3.7",
            "language": "python"
        },
        "language_info": {
            "name": "python",
            "version": "3.7.10",
            "mimetype": "text/x-python",
            "codemirror_mode": {
                "name": "ipython",
                "version": 3
            },
            "pygments_lexer": "ipython3",
            "nbconvert_exporter": "python",
            "file_extension": ".py"
        }
    },
    "nbformat": 4,
    "nbformat_minor": 1
}