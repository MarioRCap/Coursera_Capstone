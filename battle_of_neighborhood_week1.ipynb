{
    "cells": [
        {
            "metadata": {
                "collapsed": true
            },
            "cell_type": "markdown",
            "source": "# Capstone Project - The Battle of Neighborhoods (Week 1)"
        },
        {
            "metadata": {},
            "cell_type": "markdown",
            "source": "### Table of contents\n___\n1. *Problem Statement*\n2. *Data description*\n3. *Methodology*\n4. *Results*\n5. *Discussion and Coclusions*"
        },
        {
            "metadata": {},
            "cell_type": "markdown",
            "source": "### 1. Problem Statement \n___\nI work for a global mulinational located in Milan, IT but due to COVID I left my apartment. Probably, with the vaccination campaigns in place, we will return to the office. Therefore, I'm looking for a new apartment in Milan and I would like to use this opportunity to practice my learnings in Coursera, particularly with Foursquare, in order to answer the relevant questions arisen.\nThe key question that I would address whitin this project is the following: How can I find a convenient and enjoyable place that fit my interests?\nIn order to make a comparison and an evaluation of the rental option, below is a list of some \"constraints\" based on what I am looking for:\n- Apartment must be one or two room flat\n- Desired location is near a metro station within 1km radius\n- Price of rent not exceed \u20ac1,200 per month\n- Nice to have venues such as gym, food shops and restaurants\nFinding an apartment in Milan is always an hard job, especially for one and two rooms flats. Therefore, I believe that this work could be useful first for helping me to find a solution and, in general, for anyone moving to other large city in Italy. \n\n### 2. Data description \n___\nTo empirically investigate the research question identified in this study, the following data is required:\n- List of Boroughs and Neighborhoods of Milan with their geodata (latitude and longitude)\n- List of Subway metro stations in Milan with their address location\n- List of apartments for rent in Milan including their price\n- List of venues for each neighbor "
        },
        {
            "metadata": {},
            "cell_type": "markdown",
            "source": "### 3. Methodolody\n___"
        },
        {
            "metadata": {},
            "cell_type": "markdown",
            "source": "### 4. Results\n___"
        },
        {
            "metadata": {},
            "cell_type": "markdown",
            "source": "### 5. Discussion and Conclusions\n___"
        },
        {
            "metadata": {},
            "cell_type": "code",
            "source": "",
            "execution_count": null,
            "outputs": []
        },
        {
            "metadata": {},
            "cell_type": "code",
            "source": "import pandas as pd\nimport numpy as np\nimport requests\n#!conda install -c conda-forge folium=0.5.0 --yes\nimport folium\nimport matplotlib.cm as cm\nimport matplotlib.colors as colors\n\nfrom sklearn.cluster import KMeans",
            "execution_count": null,
            "outputs": []
        }
    ],
    "metadata": {
        "kernelspec": {
            "name": "python3",
            "display_name": "Python 3.7",
            "language": "python"
        },
        "language_info": {
            "name": "python",
            "version": "3.7.10",
            "mimetype": "text/x-python",
            "codemirror_mode": {
                "name": "ipython",
                "version": 3
            },
            "pygments_lexer": "ipython3",
            "nbconvert_exporter": "python",
            "file_extension": ".py"
        }
    },
    "nbformat": 4,
    "nbformat_minor": 1
}